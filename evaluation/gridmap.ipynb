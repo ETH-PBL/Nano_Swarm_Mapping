{
 "cells": [
  {
   "cell_type": "markdown",
   "source": [
    "Copyright © 2023 ETH Zurich\n",
    "All rights reserved.\n",
    "\n",
    "This software may be modified and distributed under the terms\n",
    "of the GPL-3.0 license.  See the LICENSE file for details.\n",
    "\n",
    "Author: Carl Friess"
   ],
   "metadata": {
    "collapsed": false
   }
  },
  {
   "cell_type": "code",
   "execution_count": 1,
   "outputs": [
    {
     "name": "stdout",
     "output_type": "stream",
     "text": [
      "\u001B[1mmapping.c:192:33: \u001B[0m\u001B[0;1;35mwarning: \u001B[0m\u001B[1mincompatible pointer types passing 'int16_t[32]' to parameter of type 'int16_t (*)[8]' [-Wincompatible-pointer-types]\u001B[0m\r\n",
      "    scan_extract_points(pos[i], tof_mm[i], max_range_mm, &xy_buf);\r\n",
      "\u001B[0;1;32m                                ^~~~~~~~~\r\n",
      "\u001B[0m\u001B[1mmapping.c:114:46: \u001B[0m\u001B[0;1;30mnote: \u001B[0mpassing argument to parameter 'tof' here\u001B[0m\r\n",
      "void scan_extract_points(float* pos, int16_t tof[4][8], int16_t max_range, xy_buffer_t *buffer) {\r\n",
      "\u001B[0;1;32m                                             ^\r\n",
      "\u001B[0m1 warning generated.\r\n"
     ]
    }
   ],
   "source": [
    "!gcc -c -fpic mapping.c && gcc -shared -o libmapping.so mapping.o"
   ],
   "metadata": {
    "collapsed": false
   }
  },
  {
   "cell_type": "code",
   "execution_count": 2,
   "metadata": {
    "collapsed": true
   },
   "outputs": [],
   "source": [
    "import math\n",
    "import os.path\n",
    "import struct\n",
    "\n",
    "import matplotlib.pyplot as plt\n",
    "import numpy as np\n",
    "\n",
    "from log import load_poses_cf, load_poses_vicon, load_scans\n",
    "from mapping_bridge import pcloud_to_map2"
   ]
  },
  {
   "cell_type": "code",
   "execution_count": 3,
   "outputs": [],
   "source": [
    "path = \"data/exp1/four-drones/\""
   ],
   "metadata": {
    "collapsed": false
   }
  },
  {
   "cell_type": "code",
   "execution_count": 4,
   "outputs": [],
   "source": [
    "data_cf = load_poses_cf(os.path.join(path, \"poses.csv\"))\n",
    "data_vicon = load_poses_vicon(os.path.join(path, \"vicon_poses.csv\"))\n",
    "scans = load_scans(os.path.join(path, \"scans.csv\"))"
   ],
   "metadata": {
    "collapsed": false
   }
  },
  {
   "cell_type": "code",
   "execution_count": 5,
   "outputs": [],
   "source": [
    "def extract_points(scan, x, y, yaw, max_measurement=math.inf):\n",
    "\n",
    "    offsets = [0.02, 0.02, 0.025, 0.025]\n",
    "    step = -math.pi / 4 / 8\n",
    "\n",
    "    [pose_id] = struct.unpack(\"<Hxx\", scan[:4])\n",
    "\n",
    "    poses = []\n",
    "    points = []\n",
    "    for frame in [scan[4 + i:4 + i + 76] for i in range(0, 15 * 76, 76)]:\n",
    "        [dx, dy, dyaw] = struct.unpack(\"<fff\", frame[64:])\n",
    "        frame_x = x + dx\n",
    "        frame_y = y + dy\n",
    "        frame_yaw = yaw + dyaw\n",
    "        for dir in range(4):\n",
    "            angle = -4 * step + step / 2\n",
    "            dir_yaw = frame_yaw\n",
    "            if dir == 1:\n",
    "                dir_yaw += math.pi\n",
    "            elif dir == 2:\n",
    "                dir_yaw += math.pi / 2\n",
    "            elif dir == 3:\n",
    "                dir_yaw -= math.pi / 2\n",
    "            for col in range(8):\n",
    "\n",
    "                [measurement] = struct.unpack(\"<h\", frame[dir * 8 * 2 + col * 2:dir * 8 * 2 + col * 2 + 2])\n",
    "                if measurement < 0 or measurement / 1000 > max_measurement: continue\n",
    "\n",
    "                dist_x = measurement / 1000\n",
    "                dist_y = math.tan(angle) * dist_x\n",
    "                dist_x += offsets[dir]\n",
    "                p_x = frame_x + dist_x * math.cos(dir_yaw) - dist_y * math.sin(dir_yaw)\n",
    "                p_y = frame_y + dist_x * math.sin(dir_yaw) + dist_y * math.cos(dir_yaw)\n",
    "                poses.append([frame_x, frame_y, frame_yaw])\n",
    "                points.append([p_x, p_y])\n",
    "\n",
    "                angle += step\n",
    "\n",
    "    return poses, points"
   ],
   "metadata": {
    "collapsed": false
   }
  },
  {
   "cell_type": "code",
   "execution_count": 6,
   "outputs": [
    {
     "data": {
      "text/plain": "<Figure size 432x288 with 1 Axes>",
      "image/png": "[encoded data removed]"
     },
     "metadata": {
      "needs_background": "light"
     },
     "output_type": "display_data"
    }
   ],
   "source": [
    "poses = []\n",
    "points = []\n",
    "for id in scans.keys():\n",
    "    s_poses, s_points = extract_points(scans[id], data_cf[id][-1][0], data_cf[id][-1][1], data_cf[id][-1][2])\n",
    "    poses += s_poses\n",
    "    points += s_points\n",
    "matrix = pcloud_to_map2(np.array(poses), np.array(points), 0, -2, -3.5, 6, 7, 0.1).transpose()\n",
    "matrix = matrix > 20\n",
    "fig = plt.figure()\n",
    "ax = fig.add_subplot(111)\n",
    "ax.set_xlabel(\"x (m)\")\n",
    "ax.set_ylabel(\"y (m)\")\n",
    "cax = ax.matshow(matrix, cmap='Greys', interpolation=\"nearest\")\n",
    "ax.invert_yaxis()\n",
    "plt.gca().xaxis.tick_bottom()\n",
    "plt.savefig(\"exp1-four-drones-binary-map.pdf\", dpi=400, bbox_inches=\"tight\")\n",
    "plt.show()\n",
    "plt.close()"
   ],
   "metadata": {
    "collapsed": false
   }
  }
 ],
 "metadata": {
  "kernelspec": {
   "display_name": "Python 3",
   "language": "python",
   "name": "python3"
  },
  "language_info": {
   "codemirror_mode": {
    "name": "ipython",
    "version": 2
   },
   "file_extension": ".py",
   "mimetype": "text/x-python",
   "name": "python",
   "nbconvert_exporter": "python",
   "pygments_lexer": "ipython2",
   "version": "2.7.6"
  }
 },
 "nbformat": 4,
 "nbformat_minor": 0
}
